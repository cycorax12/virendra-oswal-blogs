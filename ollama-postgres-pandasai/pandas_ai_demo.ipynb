{
 "cells": [
  {
   "cell_type": "code",
   "execution_count": null,
   "id": "f561390d-9dcf-48e3-beea-658890302a53",
   "metadata": {},
   "outputs": [],
   "source": [
    "from pandasai import SmartDataframe\n",
    "from pandasai.llm.local_llm import LocalLLM\n",
    "import pandas as pd\n",
    "from pandasai.connectors import PostgreSQLConnector"
   ]
  },
  {
   "cell_type": "code",
   "execution_count": null,
   "id": "f57de356-8651-40d3-b13f-2fda28051b85",
   "metadata": {},
   "outputs": [],
   "source": [
    "ollama_llm = LocalLLM(api_base=\"http://localhost:11434/v1\", model=\"mistral\")"
   ]
  },
  {
   "cell_type": "code",
   "execution_count": null,
   "id": "e6518fe2-e2c3-4635-8ca7-95a9655ef75e",
   "metadata": {},
   "outputs": [],
   "source": [
    "sales_by_country = pd.DataFrame({\n",
    "    \"country\": [\"United States\", \"United Kingdom\", \"France\", \"Germany\", \"Italy\", \"Spain\", \"Canada\", \"Australia\", \"Japan\", \"China\"],\n",
    "    \"sales\": [5000, 3200, 2900, 4100, 2300, 2100, 2500, 2600, 4500, 7000]\n",
    "})\n",
    "\n",
    "df = SmartDataframe(sales_by_country, config={\"llm\": ollama_llm})"
   ]
  },
  {
   "cell_type": "code",
   "execution_count": null,
   "id": "764e815e-1adc-418a-b3e4-ba702a8e06b1",
   "metadata": {},
   "outputs": [],
   "source": [
    "response = df.chat('Which are the top 5 countries by sales?')\n",
    "print(response)"
   ]
  },
  {
   "cell_type": "code",
   "execution_count": null,
   "id": "8e60f243-22eb-4770-b985-3c26722ac912",
   "metadata": {},
   "outputs": [],
   "source": [
    "data = pd.read_csv('data/football_data.csv',  encoding = 'ISO-8859-1')\n",
    "sdf = SmartDataframe(data, config={\"llm\": ollama_llm})"
   ]
  },
  {
   "cell_type": "code",
   "execution_count": null,
   "id": "fbf0a35a-3ac9-4d32-a1eb-c525af27127d",
   "metadata": {},
   "outputs": [],
   "source": [
    "response = sdf.chat('Count number of unique country')\n",
    "print(response)"
   ]
  },
  {
   "cell_type": "code",
   "execution_count": null,
   "id": "0096dfa9-5b59-43e2-8981-bd8058ac1932",
   "metadata": {},
   "outputs": [],
   "source": [
    "response = sdf.chat('Sort players with most goals but give me only top 5')\n",
    "print(response)"
   ]
  },
  {
   "cell_type": "code",
   "execution_count": null,
   "id": "d370064c-c893-44b5-8f5c-6f047fe4e387",
   "metadata": {},
   "outputs": [],
   "source": [
    "response = sdf.chat('Which country has most players')\n",
    "print(response)"
   ]
  },
  {
   "cell_type": "code",
   "execution_count": null,
   "id": "54ab37e6-e980-4557-bffd-a5d6dd4e2a6d",
   "metadata": {},
   "outputs": [],
   "source": [
    "emp_postgres_connector = PostgreSQLConnector(\n",
    "    config={\n",
    "        \"host\": \"localhost\",\n",
    "        \"port\": 5455,\n",
    "        \"database\": \"vo_db\",\n",
    "        \"username\": \"vo\",\n",
    "        \"password\": \"vo123\",\n",
    "        \"table\": \"employee\"\n",
    "    }\n",
    ")"
   ]
  },
  {
   "cell_type": "code",
   "execution_count": null,
   "id": "928bdcb8-5c32-4cd8-8a12-d4d62ce1f1f9",
   "metadata": {},
   "outputs": [],
   "source": [
    "df = SmartDataframe(emp_postgres_connector, config={\"llm\": ollama_llm})\n",
    "df.chat('What is the total number of employees?')"
   ]
  },
  {
   "cell_type": "code",
   "execution_count": null,
   "id": "c2d1e81a-48ff-46a6-8695-2c445067cfb2",
   "metadata": {},
   "outputs": [],
   "source": [
    "df.chat('Show pie chart of employee group by department?')"
   ]
  },
  {
   "cell_type": "code",
   "execution_count": null,
   "id": "0620f17a-a421-4a0a-aab6-8838b1b1e034",
   "metadata": {},
   "outputs": [],
   "source": [
    "df.chat('Show me employee with highest 5 salaries?')"
   ]
  },
  {
   "cell_type": "code",
   "execution_count": null,
   "id": "7fec8558-77aa-4cc3-9d12-cd02128166bc",
   "metadata": {},
   "outputs": [],
   "source": []
  }
 ],
 "metadata": {
  "kernelspec": {
   "display_name": "Python 3 (ipykernel)",
   "language": "python",
   "name": "python3"
  },
  "language_info": {
   "codemirror_mode": {
    "name": "ipython",
    "version": 3
   },
   "file_extension": ".py",
   "mimetype": "text/x-python",
   "name": "python",
   "nbconvert_exporter": "python",
   "pygments_lexer": "ipython3",
   "version": "3.11.3"
  }
 },
 "nbformat": 4,
 "nbformat_minor": 5
}
